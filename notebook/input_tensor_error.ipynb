{
 "cells": [
  {
   "cell_type": "code",
   "execution_count": 1,
   "id": "f5df86e8-080f-465c-bf1a-b293c22de88d",
   "metadata": {},
   "outputs": [],
   "source": [
    "\n",
    "#Torch\n",
    "import torch\n",
    "import torch.nn as nn\n",
    "from torch.utils.data import Dataset,DataLoader\n",
    "from torch.utils.data.sampler import SequentialSampler, RandomSampler\n",
    "from torch.optim import Adam, lr_scheduler\n",
    "import torch.optim as optim"
   ]
  },
  {
   "cell_type": "code",
   "execution_count": null,
   "id": "87ad5650-a8bb-4325-a80b-a0e009ef29e0",
   "metadata": {},
   "outputs": [],
   "source": []
  },
  {
   "cell_type": "code",
   "execution_count": 2,
   "id": "8bfe92d4-ca42-4253-aff8-b1cd57cb41b0",
   "metadata": {},
   "outputs": [],
   "source": [
    "class DCRNN(torch.nn.Module):\n",
    "    def _set_hidden_state(self, X, H):\n",
    "        if H is None:\n",
    "            H = torch.zeros(X.shape[0], self.out_channels)\n",
    "        return H"
   ]
  },
  {
   "cell_type": "code",
   "execution_count": null,
   "id": "06dd8075-ef5d-4062-a1a5-a22026dc36ab",
   "metadata": {},
   "outputs": [],
   "source": [
    "class DCRNN(torch.nn.Module):\n",
    "    def _set_hidden_state(self, X, H):\n",
    "        if H is None:\n",
    "            H = torch.zeros(X.shape[0], self.out_channels)\n",
    "        return H.to(X.device)"
   ]
  }
 ],
 "metadata": {
  "kernelspec": {
   "display_name": "torch_retina",
   "language": "python",
   "name": "torch_retina"
  },
  "language_info": {
   "codemirror_mode": {
    "name": "ipython",
    "version": 3
   },
   "file_extension": ".py",
   "mimetype": "text/x-python",
   "name": "python",
   "nbconvert_exporter": "python",
   "pygments_lexer": "ipython3",
   "version": "3.7.10"
  }
 },
 "nbformat": 4,
 "nbformat_minor": 5
}
