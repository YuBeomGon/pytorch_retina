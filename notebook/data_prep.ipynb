{
 "cells": [
  {
   "cell_type": "code",
   "execution_count": 1,
   "id": "72d53661-b08b-4ebd-9093-5c5f426a4477",
   "metadata": {},
   "outputs": [],
   "source": [
    "import numpy as np \n",
    "import pandas as pd\n",
    "import os\n",
    "import matplotlib.pyplot as plt\n",
    "from PIL import Image, ImageDraw, ImageEnhance\n",
    "import albumentations as A\n",
    "import albumentations.pytorch\n",
    "from tqdm.notebook import tqdm\n",
    "\n",
    "import cv2\n",
    "import re\n",
    "import time\n",
    "\n",
    "import sys\n",
    "sys.path.append('../utils')\n",
    "sys.path.append('../')\n",
    "from visualize import *\n",
    "from xml_parser import *\n",
    "from transformations import *\n",
    "from retinanet import coco_eval\n",
    "from retinanet import csv_eval\n",
    "from retinanet import model\n",
    "\n",
    "from sklearn.model_selection import train_test_split\n",
    "from sklearn.preprocessing import LabelEncoder\n",
    "\n",
    "#Torch\n",
    "import torch\n",
    "import torch.nn as nn\n",
    "from torch.utils.data import Dataset,DataLoader\n",
    "from torch.utils.data.sampler import SequentialSampler, RandomSampler\n",
    "from torch.optim import Adam, lr_scheduler"
   ]
  },
  {
   "cell_type": "code",
   "execution_count": null,
   "id": "d562577d-174b-4f1d-9ebb-1cfb12c714b7",
   "metadata": {},
   "outputs": [],
   "source": [
    "# src_path = '/home/Dataset/Papsmear/original'\n",
    "# df = pd.DataFrame(columns=['label', 'org_label', 'bbox', 'xmin','ymin','xmax','ymax', 'xmlh', 'xmlw', 'file_name', 'path'])\n",
    "# # df = pd.DataFrame(columns=['class','bbox', 'path'])\n",
    "# data_list = []\n",
    "# for dir_name in ['SS', 'SS2']:\n",
    "#     dpath = os.path.join(src_path, dir_name)\n",
    "# #     print(dpath)\n",
    "#     dir_lists = os.listdir(dpath) \n",
    "# #     print(dir_lists)\n",
    "    \n",
    "#     for dir_list in dir_lists :\n",
    "#         dpath2 = os.path.join(dpath, dir_list)\n",
    "#         xml_list = [os.path.join(dpath2, d) for d in os.listdir(dpath2) if d.endswith(\".xml\")]\n",
    "# #         print(xml_list)\n",
    "#         for xml_path in xml_list :\n",
    "#             parser = XMLParser(xml_path)\n",
    "#             if (parser.height, parser.width) not in parser.rejection_size:  \n",
    "#                 filename = parser.file_name\n",
    "#                 for obj in parser.objects :\n",
    "#                     obj_class = obj[0]\n",
    "#                     if obj_class in rej_table :\n",
    "#                         continue\n",
    "                    \n",
    "#                     img_path = '/'.join((xml_path.split('/')[:-1])) + '/' + filename\n",
    "#     #                 img_path = re.sub('xml', 'jpg', xml_path)\n",
    "#     # #                     print(img_path)\n",
    "#                     obj.append(parser.height)\n",
    "#                     obj.append(parser.width)\n",
    "#                     obj.append(parser.file_name)\n",
    "#                     obj.append(img_path)\n",
    "#                     data_list.append(obj)\n",
    "#     # #                     print(obj)"
   ]
  },
  {
   "cell_type": "code",
   "execution_count": 2,
   "id": "4ebba5af-b1fd-44c9-aca6-f6d1d1cb8d6a",
   "metadata": {},
   "outputs": [
    {
     "data": {
      "text/html": [
       "<div>\n",
       "<style scoped>\n",
       "    .dataframe tbody tr th:only-of-type {\n",
       "        vertical-align: middle;\n",
       "    }\n",
       "\n",
       "    .dataframe tbody tr th {\n",
       "        vertical-align: top;\n",
       "    }\n",
       "\n",
       "    .dataframe thead th {\n",
       "        text-align: right;\n",
       "    }\n",
       "</style>\n",
       "<table border=\"1\" class=\"dataframe\">\n",
       "  <thead>\n",
       "    <tr style=\"text-align: right;\">\n",
       "      <th></th>\n",
       "      <th>file_name</th>\n",
       "      <th>xmlh</th>\n",
       "      <th>xmlw</th>\n",
       "      <th>res</th>\n",
       "      <th>h</th>\n",
       "      <th>w</th>\n",
       "      <th>xdiff</th>\n",
       "      <th>ydiff</th>\n",
       "      <th>area</th>\n",
       "      <th>bbox</th>\n",
       "      <th>xmin</th>\n",
       "      <th>ymin</th>\n",
       "      <th>xmax</th>\n",
       "      <th>ymax</th>\n",
       "      <th>label</th>\n",
       "      <th>org_label</th>\n",
       "      <th>format</th>\n",
       "      <th>path</th>\n",
       "    </tr>\n",
       "  </thead>\n",
       "  <tbody>\n",
       "    <tr>\n",
       "      <th>0</th>\n",
       "      <td>20200623_100015.jpg</td>\n",
       "      <td>1960</td>\n",
       "      <td>4032</td>\n",
       "      <td>(4032, 1960)</td>\n",
       "      <td>4032</td>\n",
       "      <td>1960</td>\n",
       "      <td>117</td>\n",
       "      <td>124</td>\n",
       "      <td>14508</td>\n",
       "      <td>[2061, 1051, 2178, 1175]</td>\n",
       "      <td>2061</td>\n",
       "      <td>1051</td>\n",
       "      <td>2178</td>\n",
       "      <td>1175</td>\n",
       "      <td>Carcinoma</td>\n",
       "      <td>Suamous cell carcinoma</td>\n",
       "      <td>jpg</td>\n",
       "      <td>/home/Dataset/Papsmear/original/SS/06/20200623...</td>\n",
       "    </tr>\n",
       "    <tr>\n",
       "      <th>1</th>\n",
       "      <td>20200420_100401.jpg</td>\n",
       "      <td>1960</td>\n",
       "      <td>4032</td>\n",
       "      <td>(4032, 1960)</td>\n",
       "      <td>4032</td>\n",
       "      <td>1960</td>\n",
       "      <td>79</td>\n",
       "      <td>71</td>\n",
       "      <td>5609</td>\n",
       "      <td>[1945, 870, 2024, 941]</td>\n",
       "      <td>1945</td>\n",
       "      <td>870</td>\n",
       "      <td>2024</td>\n",
       "      <td>941</td>\n",
       "      <td>HSIL</td>\n",
       "      <td>HSIL</td>\n",
       "      <td>jpg</td>\n",
       "      <td>/home/Dataset/Papsmear/original/SS/06/20200420...</td>\n",
       "    </tr>\n",
       "    <tr>\n",
       "      <th>2</th>\n",
       "      <td>20200420_100401.jpg</td>\n",
       "      <td>1960</td>\n",
       "      <td>4032</td>\n",
       "      <td>(4032, 1960)</td>\n",
       "      <td>4032</td>\n",
       "      <td>1960</td>\n",
       "      <td>84</td>\n",
       "      <td>73</td>\n",
       "      <td>6132</td>\n",
       "      <td>[2400, 947, 2484, 1020]</td>\n",
       "      <td>2400</td>\n",
       "      <td>947</td>\n",
       "      <td>2484</td>\n",
       "      <td>1020</td>\n",
       "      <td>HSIL</td>\n",
       "      <td>HSIL</td>\n",
       "      <td>jpg</td>\n",
       "      <td>/home/Dataset/Papsmear/original/SS/06/20200420...</td>\n",
       "    </tr>\n",
       "    <tr>\n",
       "      <th>3</th>\n",
       "      <td>20200420_100401.jpg</td>\n",
       "      <td>1960</td>\n",
       "      <td>4032</td>\n",
       "      <td>(4032, 1960)</td>\n",
       "      <td>4032</td>\n",
       "      <td>1960</td>\n",
       "      <td>98</td>\n",
       "      <td>67</td>\n",
       "      <td>6566</td>\n",
       "      <td>[2209, 845, 2307, 912]</td>\n",
       "      <td>2209</td>\n",
       "      <td>845</td>\n",
       "      <td>2307</td>\n",
       "      <td>912</td>\n",
       "      <td>HSIL</td>\n",
       "      <td>HSIL</td>\n",
       "      <td>jpg</td>\n",
       "      <td>/home/Dataset/Papsmear/original/SS/06/20200420...</td>\n",
       "    </tr>\n",
       "    <tr>\n",
       "      <th>4</th>\n",
       "      <td>20200420_100401.jpg</td>\n",
       "      <td>1960</td>\n",
       "      <td>4032</td>\n",
       "      <td>(4032, 1960)</td>\n",
       "      <td>4032</td>\n",
       "      <td>1960</td>\n",
       "      <td>88</td>\n",
       "      <td>55</td>\n",
       "      <td>4840</td>\n",
       "      <td>[2056, 811, 2144, 866]</td>\n",
       "      <td>2056</td>\n",
       "      <td>811</td>\n",
       "      <td>2144</td>\n",
       "      <td>866</td>\n",
       "      <td>HSIL</td>\n",
       "      <td>HSIL</td>\n",
       "      <td>jpg</td>\n",
       "      <td>/home/Dataset/Papsmear/original/SS/06/20200420...</td>\n",
       "    </tr>\n",
       "  </tbody>\n",
       "</table>\n",
       "</div>"
      ],
      "text/plain": [
       "             file_name  xmlh  xmlw           res     h     w  xdiff  ydiff  \\\n",
       "0  20200623_100015.jpg  1960  4032  (4032, 1960)  4032  1960    117    124   \n",
       "1  20200420_100401.jpg  1960  4032  (4032, 1960)  4032  1960     79     71   \n",
       "2  20200420_100401.jpg  1960  4032  (4032, 1960)  4032  1960     84     73   \n",
       "3  20200420_100401.jpg  1960  4032  (4032, 1960)  4032  1960     98     67   \n",
       "4  20200420_100401.jpg  1960  4032  (4032, 1960)  4032  1960     88     55   \n",
       "\n",
       "    area                      bbox  xmin  ymin  xmax  ymax      label  \\\n",
       "0  14508  [2061, 1051, 2178, 1175]  2061  1051  2178  1175  Carcinoma   \n",
       "1   5609    [1945, 870, 2024, 941]  1945   870  2024   941       HSIL   \n",
       "2   6132   [2400, 947, 2484, 1020]  2400   947  2484  1020       HSIL   \n",
       "3   6566    [2209, 845, 2307, 912]  2209   845  2307   912       HSIL   \n",
       "4   4840    [2056, 811, 2144, 866]  2056   811  2144   866       HSIL   \n",
       "\n",
       "                org_label format  \\\n",
       "0  Suamous cell carcinoma    jpg   \n",
       "1                    HSIL    jpg   \n",
       "2                    HSIL    jpg   \n",
       "3                    HSIL    jpg   \n",
       "4                    HSIL    jpg   \n",
       "\n",
       "                                                path  \n",
       "0  /home/Dataset/Papsmear/original/SS/06/20200623...  \n",
       "1  /home/Dataset/Papsmear/original/SS/06/20200420...  \n",
       "2  /home/Dataset/Papsmear/original/SS/06/20200420...  \n",
       "3  /home/Dataset/Papsmear/original/SS/06/20200420...  \n",
       "4  /home/Dataset/Papsmear/original/SS/06/20200420...  "
      ]
     },
     "execution_count": 2,
     "metadata": {},
     "output_type": "execute_result"
    }
   ],
   "source": [
    "df = pd.read_csv('df.csv')\n",
    "df['xdiff'] = df.apply(lambda x : x['xmax'] - x['xmin'], axis=1)\n",
    "df['ydiff'] = df.apply(lambda x : x['ymax'] - x['ymin'], axis=1)\n",
    "df['area'] = df.apply(lambda x : x['xdiff'] * x['ydiff'], axis=1)\n",
    "df['format'] = df.file_name.apply(lambda x : x.split('.')[-1])\n",
    " \n",
    "df = df[['file_name', 'xmlh', 'xmlw', 'res', 'h', 'w', 'xdiff', 'ydiff',\n",
    "       'area', 'bbox', 'xmin', 'ymin', 'xmax', 'ymax',\n",
    "       'label', 'org_label', 'format', 'path']]\n",
    "df.head()"
   ]
  },
  {
   "cell_type": "code",
   "execution_count": 6,
   "id": "501766a4-d154-41e4-bb6a-e747d928d8b4",
   "metadata": {},
   "outputs": [
    {
     "name": "stdout",
     "output_type": "stream",
     "text": [
      "(100871, 18)\n",
      "(100871, 18)\n"
     ]
    }
   ],
   "source": [
    "print(df.shape)\n",
    "df = df[df['xdiff'] > 25]\n",
    "df = df[df['ydiff'] > 25]\n",
    "df = df[df['area'] > 1000]\n",
    "print(df.shape)\n",
    "df.reset_index(drop=True, inplace=True)\n",
    "# df.head()"
   ]
  },
  {
   "cell_type": "code",
   "execution_count": 7,
   "id": "b6b656ec-d607-4ac9-baeb-f00f53e1efb7",
   "metadata": {},
   "outputs": [
    {
     "data": {
      "text/plain": [
       "{'ASCUS', 'Carcinoma', 'HSIL', 'LSIL', 'Normal'}"
      ]
     },
     "execution_count": 7,
     "metadata": {},
     "output_type": "execute_result"
    }
   ],
   "source": [
    "set(df.label)"
   ]
  },
  {
   "cell_type": "code",
   "execution_count": 5,
   "id": "3ecece2f-6b4d-4371-a641-f5297cb3905b",
   "metadata": {},
   "outputs": [
    {
     "data": {
      "text/html": [
       "<div>\n",
       "<style scoped>\n",
       "    .dataframe tbody tr th:only-of-type {\n",
       "        vertical-align: middle;\n",
       "    }\n",
       "\n",
       "    .dataframe tbody tr th {\n",
       "        vertical-align: top;\n",
       "    }\n",
       "\n",
       "    .dataframe thead th {\n",
       "        text-align: right;\n",
       "    }\n",
       "</style>\n",
       "<table border=\"1\" class=\"dataframe\">\n",
       "  <thead>\n",
       "    <tr style=\"text-align: right;\">\n",
       "      <th></th>\n",
       "      <th>file_name</th>\n",
       "      <th>xmlh</th>\n",
       "      <th>xmlw</th>\n",
       "      <th>res</th>\n",
       "      <th>h</th>\n",
       "      <th>w</th>\n",
       "      <th>xdiff</th>\n",
       "      <th>ydiff</th>\n",
       "      <th>area</th>\n",
       "      <th>bbox</th>\n",
       "      <th>xmin</th>\n",
       "      <th>ymin</th>\n",
       "      <th>xmax</th>\n",
       "      <th>ymax</th>\n",
       "      <th>label</th>\n",
       "      <th>org_label</th>\n",
       "      <th>format</th>\n",
       "      <th>path</th>\n",
       "    </tr>\n",
       "  </thead>\n",
       "  <tbody>\n",
       "    <tr>\n",
       "      <th>100866</th>\n",
       "      <td>20200903_104408.jpg</td>\n",
       "      <td>1800</td>\n",
       "      <td>4000</td>\n",
       "      <td>(4000, 1800)</td>\n",
       "      <td>4000</td>\n",
       "      <td>1800</td>\n",
       "      <td>98</td>\n",
       "      <td>138</td>\n",
       "      <td>13524</td>\n",
       "      <td>[2165, 1052, 2263, 1190]</td>\n",
       "      <td>2165</td>\n",
       "      <td>1052</td>\n",
       "      <td>2263</td>\n",
       "      <td>1190</td>\n",
       "      <td>ASCUS</td>\n",
       "      <td>ASCUS</td>\n",
       "      <td>jpg</td>\n",
       "      <td>/home/Dataset/Papsmear/original/SS2/02(200901-...</td>\n",
       "    </tr>\n",
       "    <tr>\n",
       "      <th>100867</th>\n",
       "      <td>20200903_093016.jpg</td>\n",
       "      <td>1800</td>\n",
       "      <td>4000</td>\n",
       "      <td>(4000, 1800)</td>\n",
       "      <td>4000</td>\n",
       "      <td>1800</td>\n",
       "      <td>160</td>\n",
       "      <td>122</td>\n",
       "      <td>19520</td>\n",
       "      <td>[2208, 523, 2368, 645]</td>\n",
       "      <td>2208</td>\n",
       "      <td>523</td>\n",
       "      <td>2368</td>\n",
       "      <td>645</td>\n",
       "      <td>HSIL</td>\n",
       "      <td>HSIL</td>\n",
       "      <td>jpg</td>\n",
       "      <td>/home/Dataset/Papsmear/original/SS2/02(200901-...</td>\n",
       "    </tr>\n",
       "    <tr>\n",
       "      <th>100868</th>\n",
       "      <td>20200903_093016.jpg</td>\n",
       "      <td>1800</td>\n",
       "      <td>4000</td>\n",
       "      <td>(4000, 1800)</td>\n",
       "      <td>4000</td>\n",
       "      <td>1800</td>\n",
       "      <td>193</td>\n",
       "      <td>91</td>\n",
       "      <td>17563</td>\n",
       "      <td>[2091, 737, 2284, 828]</td>\n",
       "      <td>2091</td>\n",
       "      <td>737</td>\n",
       "      <td>2284</td>\n",
       "      <td>828</td>\n",
       "      <td>HSIL</td>\n",
       "      <td>HSIL</td>\n",
       "      <td>jpg</td>\n",
       "      <td>/home/Dataset/Papsmear/original/SS2/02(200901-...</td>\n",
       "    </tr>\n",
       "    <tr>\n",
       "      <th>100869</th>\n",
       "      <td>20200903_093016.jpg</td>\n",
       "      <td>1800</td>\n",
       "      <td>4000</td>\n",
       "      <td>(4000, 1800)</td>\n",
       "      <td>4000</td>\n",
       "      <td>1800</td>\n",
       "      <td>139</td>\n",
       "      <td>116</td>\n",
       "      <td>16124</td>\n",
       "      <td>[2124, 828, 2263, 944]</td>\n",
       "      <td>2124</td>\n",
       "      <td>828</td>\n",
       "      <td>2263</td>\n",
       "      <td>944</td>\n",
       "      <td>HSIL</td>\n",
       "      <td>HSIL</td>\n",
       "      <td>jpg</td>\n",
       "      <td>/home/Dataset/Papsmear/original/SS2/02(200901-...</td>\n",
       "    </tr>\n",
       "    <tr>\n",
       "      <th>100870</th>\n",
       "      <td>20200903_093016.jpg</td>\n",
       "      <td>1800</td>\n",
       "      <td>4000</td>\n",
       "      <td>(4000, 1800)</td>\n",
       "      <td>4000</td>\n",
       "      <td>1800</td>\n",
       "      <td>137</td>\n",
       "      <td>107</td>\n",
       "      <td>14659</td>\n",
       "      <td>[2480, 876, 2617, 983]</td>\n",
       "      <td>2480</td>\n",
       "      <td>876</td>\n",
       "      <td>2617</td>\n",
       "      <td>983</td>\n",
       "      <td>HSIL</td>\n",
       "      <td>HSIL</td>\n",
       "      <td>jpg</td>\n",
       "      <td>/home/Dataset/Papsmear/original/SS2/02(200901-...</td>\n",
       "    </tr>\n",
       "  </tbody>\n",
       "</table>\n",
       "</div>"
      ],
      "text/plain": [
       "                  file_name  xmlh  xmlw           res     h     w  xdiff  \\\n",
       "100866  20200903_104408.jpg  1800  4000  (4000, 1800)  4000  1800     98   \n",
       "100867  20200903_093016.jpg  1800  4000  (4000, 1800)  4000  1800    160   \n",
       "100868  20200903_093016.jpg  1800  4000  (4000, 1800)  4000  1800    193   \n",
       "100869  20200903_093016.jpg  1800  4000  (4000, 1800)  4000  1800    139   \n",
       "100870  20200903_093016.jpg  1800  4000  (4000, 1800)  4000  1800    137   \n",
       "\n",
       "        ydiff   area                      bbox  xmin  ymin  xmax  ymax  label  \\\n",
       "100866    138  13524  [2165, 1052, 2263, 1190]  2165  1052  2263  1190  ASCUS   \n",
       "100867    122  19520    [2208, 523, 2368, 645]  2208   523  2368   645   HSIL   \n",
       "100868     91  17563    [2091, 737, 2284, 828]  2091   737  2284   828   HSIL   \n",
       "100869    116  16124    [2124, 828, 2263, 944]  2124   828  2263   944   HSIL   \n",
       "100870    107  14659    [2480, 876, 2617, 983]  2480   876  2617   983   HSIL   \n",
       "\n",
       "       org_label format                                               path  \n",
       "100866     ASCUS    jpg  /home/Dataset/Papsmear/original/SS2/02(200901-...  \n",
       "100867      HSIL    jpg  /home/Dataset/Papsmear/original/SS2/02(200901-...  \n",
       "100868      HSIL    jpg  /home/Dataset/Papsmear/original/SS2/02(200901-...  \n",
       "100869      HSIL    jpg  /home/Dataset/Papsmear/original/SS2/02(200901-...  \n",
       "100870      HSIL    jpg  /home/Dataset/Papsmear/original/SS2/02(200901-...  "
      ]
     },
     "execution_count": 5,
     "metadata": {},
     "output_type": "execute_result"
    }
   ],
   "source": [
    "df.tail()"
   ]
  },
  {
   "cell_type": "code",
   "execution_count": 8,
   "id": "c9fd2f39-9ca5-4843-9ac0-e9fb38eb6b32",
   "metadata": {},
   "outputs": [],
   "source": [
    "encoder = LabelEncoder()\n",
    "\n",
    "# X_train데이터를 이용 피팅하고 라벨숫자로 변환한다\n",
    "encoder.fit(df.label)\n",
    "df['label_id'] = encoder.transform(df.label)\n",
    "df = df[['file_name', 'xmlh', 'xmlw', 'res', 'h', 'w', 'xdiff', 'ydiff', 'area',\n",
    "       'bbox', 'xmin', 'ymin', 'xmax', 'ymax', 'label_id', 'label', 'org_label', 'format',\n",
    "       'path']]\n",
    "#df.tail()\n"
   ]
  },
  {
   "cell_type": "code",
   "execution_count": 9,
   "id": "ed2a99b8-f089-4dbd-a0dc-f16deee192d2",
   "metadata": {},
   "outputs": [
    {
     "data": {
      "text/plain": [
       "array([4032, 4000])"
      ]
     },
     "execution_count": 9,
     "metadata": {},
     "output_type": "execute_result"
    }
   ],
   "source": [
    "df[df['xmlh'] != df['h']].h.unique()"
   ]
  },
  {
   "cell_type": "code",
   "execution_count": 10,
   "id": "a9a143e0-a076-42b3-9dbf-6c851ad0534d",
   "metadata": {},
   "outputs": [
    {
     "data": {
      "text/plain": [
       "numpy.ndarray"
      ]
     },
     "execution_count": 10,
     "metadata": {},
     "output_type": "execute_result"
    }
   ],
   "source": [
    "image_list = df.path.unique()\n",
    "type(image_list)"
   ]
  },
  {
   "cell_type": "code",
   "execution_count": 11,
   "id": "762645c4-5bb2-4382-af98-7f48ae43b8fb",
   "metadata": {},
   "outputs": [
    {
     "name": "stdout",
     "output_type": "stream",
     "text": [
      "18720\n",
      "14976\n",
      "3744\n"
     ]
    }
   ],
   "source": [
    "train_images, test_images = train_test_split(image_list, test_size=0.2, random_state=42)\n",
    "print(len(image_list))\n",
    "print(len(train_images))\n",
    "print(len(test_images))"
   ]
  },
  {
   "cell_type": "code",
   "execution_count": 12,
   "id": "6c47c82c-af7f-4247-8960-f1b2e84cef66",
   "metadata": {},
   "outputs": [],
   "source": [
    "df_path = df.groupby('path')\n",
    "# path_list = list(set(df.path))\n",
    "train_info = {} \n",
    "test_info = {}\n",
    "\n",
    "for path in train_images :\n",
    "    temp_df = df_path.get_group(path)\n",
    "#     p = path.split('/original/')[-1]\n",
    "    label = temp_df[['label', 'xmin', 'ymin', 'xmax', 'ymax', 'label_id']].values\n",
    "    train_info[path] = label\n",
    "    \n",
    "for path in test_images :\n",
    "    temp_df = df_path.get_group(path)\n",
    "#     p = path.split('/original/')[-1]\n",
    "    label = temp_df[['label', 'xmin', 'ymin', 'xmax', 'ymax', 'label_id']].values\n",
    "    test_info[path] = label    "
   ]
  },
  {
   "cell_type": "code",
   "execution_count": 13,
   "id": "25cc9158-302a-4d33-b5ec-6926351f4df6",
   "metadata": {},
   "outputs": [],
   "source": [
    "np.save('../data/train.npy', train_info)\n",
    "np.save('../data/test.npy', test_info)"
   ]
  },
  {
   "cell_type": "code",
   "execution_count": 15,
   "id": "9a8cf60e-ec00-4193-99b9-1f27c203d676",
   "metadata": {},
   "outputs": [
    {
     "data": {
      "text/plain": [
       "array([['ASCUS', 1875, 1135, 2007, 1237, 0],\n",
       "       ['ASCUS', 2132, 967, 2235, 1079, 0],\n",
       "       ['ASCUS', 2297, 779, 2374, 877, 0],\n",
       "       ['ASCUS', 2419, 672, 2528, 774, 0]], dtype=object)"
      ]
     },
     "execution_count": 15,
     "metadata": {},
     "output_type": "execute_result"
    }
   ],
   "source": [
    "#list(test_info.keys())\n",
    "#test_info.keys()\n",
    "test_info['/home/Dataset/Papsmear/original/SS2/06(201029)/20201029_100215.jpg'][:,0]\n",
    "test_info['/home/Dataset/Papsmear/original/SS2/06(201029)/20201029_100215.jpg']"
   ]
  },
  {
   "cell_type": "code",
   "execution_count": 13,
   "id": "cd97e04f-07f3-44fe-a27a-d88dd42c5fc9",
   "metadata": {},
   "outputs": [],
   "source": [
    "transforms = A.Compose([\n",
    "#     A.RandomCrop(width=450, height=450),\n",
    "#     A.HorizontalFlip(p=1),\n",
    "    A.CenterCrop(1280,1280, True,1),\n",
    "#    A.RandomSizedBBoxSafeCrop(384, 384),\n",
    "    A.Resize(640, 640, p=1),\n",
    "    A.HorizontalFlip(p=0.5),\n",
    "    A.VerticalFlip(p=0.5),\n",
    "    A.RandomRotate90(p=0.5),\n",
    "    A.RandomRain(p=0.1),\n",
    "    A.pytorch.ToTensor(),\n",
    "# ], p=1.0, bbox_params=A.BboxParams(format='pascal_voc', min_area=0, min_visibility=0.5))\n",
    "], p=1.0, bbox_params=A.BboxParams(format='pascal_voc', min_area=0, min_visibility=0.99, label_fields=['labels']))"
   ]
  },
  {
   "cell_type": "code",
   "execution_count": 14,
   "id": "0b332d49-4e8f-4174-9297-c2c077780b03",
   "metadata": {},
   "outputs": [],
   "source": [
    "class PapsDataset(Dataset) :\n",
    "    def __init__(self,image_info,transforms=None):\n",
    "        self.images_info = image_info\n",
    "        self.transforms = transforms\n",
    "        self.image_list = list(image_info.keys())\n",
    "        \n",
    "    def __len__(self) -> int:\n",
    "        return len(self.image_list)        \n",
    "    \n",
    "    def __getitem__(self,index):\n",
    "\n",
    "        path = self.image_list[index]\n",
    "        image = cv2.imread(path, cv2.IMREAD_COLOR)\n",
    "        image = cv2.cvtColor(image, cv2.COLOR_BGR2RGB).astype(np.float32)\n",
    "        image = switch_image(image)\n",
    "        image /= 127.5\n",
    "        image -= 1\n",
    "              \n",
    "        # DETR takes in data in coco format \n",
    "        value = self.images_info[path]\n",
    "        boxes = value[:,1:5] \n",
    "        labels = value[:, 5]\n",
    "\n",
    "        if self.transforms:\n",
    "            sample = {\n",
    "                'image': image,\n",
    "                'bboxes': boxes,\n",
    "                'labels': labels\n",
    "            }\n",
    "            sample = self.transforms(**sample)\n",
    "            image  = sample['image']\n",
    "            boxes  = sample['bboxes']\n",
    "            labels = sample['labels']\n",
    "\n",
    "        _,h,w = image.shape\n",
    "        boxes = A.augmentations.bbox_utils.normalize_bboxes(sample['bboxes'],rows=h,cols=w)\n",
    "        \n",
    "        ## detr uses center_x,center_y,width,height !!\n",
    "        if len(boxes)>0:\n",
    "            boxes = np.array(boxes)\n",
    "            boxes[:,2:] = (boxes[:,2:] - boxes[:,:2])/2\n",
    "            boxes[:,:2] += boxes[:,2:]\n",
    "        else:\n",
    "            boxes = np.zeros((0,4))\n",
    "    \n",
    "        target = {}\n",
    "        target['boxes'] = torch.as_tensor(boxes,dtype=torch.float32)\n",
    "        target['labels'] = torch.as_tensor(labels, dtype=torch.int64)\n",
    "#        target['image_path'] = torch.tensor([path])\n",
    "        \n",
    "        return image, target, path    "
   ]
  },
  {
   "cell_type": "code",
   "execution_count": 15,
   "id": "0de90462-322f-4175-8e70-5208d6c53d0e",
   "metadata": {},
   "outputs": [],
   "source": [
    "def collate_fn(batch):\n",
    "    return tuple(zip(*batch))"
   ]
  },
  {
   "cell_type": "code",
   "execution_count": 29,
   "id": "f29d2e3f-3826-420a-b448-26a9561fa932",
   "metadata": {},
   "outputs": [],
   "source": [
    "batch_size = 32\n",
    "train_ds = PapsDataset(train_info,transforms)\n",
    "\n",
    "train_data_loader = DataLoader(\n",
    "    train_ds,\n",
    "    batch_size=batch_size,\n",
    "    shuffle=True,\n",
    "    num_workers=4,\n",
    "    collate_fn=collate_fn\n",
    ")"
   ]
  },
  {
   "cell_type": "code",
   "execution_count": null,
   "id": "909b8c0c-6ae3-46c2-9c6e-9424d8e79239",
   "metadata": {},
   "outputs": [],
   "source": [
    "# for param, state in zip(model.parameters(), model.state_dict()) :\n",
    "#     if 'down_fc.' not in state :\n",
    "#         param.requires_grad = False\n",
    "#     else :\n",
    "#         param.requires_grad = True"
   ]
  },
  {
   "cell_type": "code",
   "execution_count": 53,
   "id": "94a9e6f3-097a-424a-9126-78594f8ef5ec",
   "metadata": {},
   "outputs": [
    {
     "data": {
      "text/plain": [
       "collections.OrderedDict"
      ]
     },
     "execution_count": 53,
     "metadata": {},
     "output_type": "execute_result"
    }
   ],
   "source": [
    "type(pretrained_retinanet.parameters())\n",
    "type(pretrained_retinanet.state_dict())"
   ]
  },
  {
   "cell_type": "code",
   "execution_count": null,
   "id": "e1d4ba08-e302-44b8-85c6-084e021ac299",
   "metadata": {},
   "outputs": [],
   "source": [
    "# pretrained_retinanet.state_dict().keys()"
   ]
  },
  {
   "cell_type": "code",
   "execution_count": 69,
   "id": "1bdfac4a-1c27-47fb-b789-53bed67b6224",
   "metadata": {},
   "outputs": [
    {
     "name": "stdout",
     "output_type": "stream",
     "text": [
      "CPU times: user 2 µs, sys: 1 µs, total: 3 µs\n",
      "Wall time: 6.68 µs\n"
     ]
    }
   ],
   "source": [
    "%time\n",
    "PATH_TO_WEIGHTS = '../coco_resnet_50_map_0_335_state_dict.pt'\n",
    "pretrained_retinanet = model.resnet50(num_classes=80,)\n",
    "pretrained_retinanet.load_state_dict(torch.load(PATH_TO_WEIGHTS))\n",
    "\n",
    "retinanet = model.resnet50(num_classes=5,)\n",
    "for param, state in zip(pretrained_retinanet.parameters(), pretrained_retinanet.state_dict()) :\n",
    "    #print(state)\n",
    "    if 'classificationModel' not in state :\n",
    "        retinanet.state_dict()[state] = param\n",
    "    else :\n",
    "        print(state)\n",
    "        \n",
    "for param, state in zip(pretrained_retinanet.fpn.parameters(), pretrained_retinanet.fpn.state_dict()) :\n",
    "    #print(state)\n",
    "    retinanet.fpn.state_dict()[state] = param\n",
    "    \n",
    "for param, state in zip(pretrained_retinanet.regressionModel.parameters(), pretrained_retinanet.regressionModel.state_dict()) :\n",
    "    #print(state)\n",
    "    retinanet.regressionModel.state_dict()[state] = param    \n",
    "\n",
    "            \n",
    "    "
   ]
  },
  {
   "cell_type": "code",
   "execution_count": 70,
   "id": "903ca58b-e4ac-4935-abb9-52a8b0c17b30",
   "metadata": {},
   "outputs": [],
   "source": [
    "device = torch.device('cuda')\n",
    "# device = torch.device('cpu')\n",
    "retinanet.to(device)\n",
    "retinanet = torch.nn.DataParallel(retinanet).to(device)\n",
    "# retinanet.module.freeze_bn()"
   ]
  },
  {
   "cell_type": "code",
   "execution_count": null,
   "id": "72c9ff86-6561-4cbc-8f06-211175e9f5fd",
   "metadata": {},
   "outputs": [],
   "source": []
  },
  {
   "cell_type": "code",
   "execution_count": null,
   "id": "93dd2680-4a86-4f76-9854-4423e446f6e1",
   "metadata": {},
   "outputs": [],
   "source": []
  },
  {
   "cell_type": "code",
   "execution_count": null,
   "id": "bf21d019-399f-443c-858d-3e18edcbffc8",
   "metadata": {},
   "outputs": [],
   "source": []
  },
  {
   "cell_type": "code",
   "execution_count": null,
   "id": "1efcdf21-2ae5-4e0c-be20-ce30ef32ba70",
   "metadata": {},
   "outputs": [],
   "source": []
  },
  {
   "cell_type": "code",
   "execution_count": null,
   "id": "be4a7cda-5762-4ad1-8ee4-75f4523eb301",
   "metadata": {},
   "outputs": [],
   "source": []
  },
  {
   "cell_type": "code",
   "execution_count": 30,
   "id": "d44f8e61-033c-4093-a436-4bd574f13cf7",
   "metadata": {},
   "outputs": [],
   "source": [
    "#len(train_data_loader)"
   ]
  },
  {
   "cell_type": "code",
   "execution_count": 72,
   "id": "97e1445a-bef1-4c95-8847-1e8dc8b033fb",
   "metadata": {},
   "outputs": [
    {
     "data": {
      "application/vnd.jupyter.widget-view+json": {
       "model_id": "60000f9035d540669e5d7553cc1a9dda",
       "version_major": 2,
       "version_minor": 0
      },
      "text/plain": [
       "  0%|          | 0/468 [00:00<?, ?it/s]"
      ]
     },
     "metadata": {},
     "output_type": "display_data"
    },
    {
     "ename": "RuntimeError",
     "evalue": "CUDA error: out of memory",
     "output_type": "error",
     "traceback": [
      "\u001b[0;31m---------------------------------------------------------------------------\u001b[0m",
      "\u001b[0;31mRuntimeError\u001b[0m                              Traceback (most recent call last)",
      "\u001b[0;32m<ipython-input-72-b81c97b5c8f5>\u001b[0m in \u001b[0;36m<module>\u001b[0;34m\u001b[0m\n\u001b[1;32m      6\u001b[0m     \u001b[0mtargets\u001b[0m \u001b[0;34m=\u001b[0m \u001b[0;34m[\u001b[0m\u001b[0;34m{\u001b[0m\u001b[0mk\u001b[0m\u001b[0;34m:\u001b[0m \u001b[0mv\u001b[0m\u001b[0;34m.\u001b[0m\u001b[0mto\u001b[0m\u001b[0;34m(\u001b[0m\u001b[0mdevice\u001b[0m\u001b[0;34m)\u001b[0m \u001b[0;32mfor\u001b[0m \u001b[0mk\u001b[0m\u001b[0;34m,\u001b[0m \u001b[0mv\u001b[0m \u001b[0;32min\u001b[0m \u001b[0mt\u001b[0m\u001b[0;34m.\u001b[0m\u001b[0mitems\u001b[0m\u001b[0;34m(\u001b[0m\u001b[0;34m)\u001b[0m\u001b[0;34m}\u001b[0m \u001b[0;32mfor\u001b[0m \u001b[0mt\u001b[0m \u001b[0;32min\u001b[0m \u001b[0mtargets\u001b[0m\u001b[0;34m]\u001b[0m\u001b[0;34m\u001b[0m\u001b[0;34m\u001b[0m\u001b[0m\n\u001b[1;32m      7\u001b[0m \u001b[0;34m\u001b[0m\u001b[0m\n\u001b[0;32m----> 8\u001b[0;31m     \u001b[0moutput\u001b[0m \u001b[0;34m=\u001b[0m \u001b[0mretinanet\u001b[0m\u001b[0;34m(\u001b[0m\u001b[0mimages\u001b[0m\u001b[0;34m)\u001b[0m\u001b[0;34m\u001b[0m\u001b[0;34m\u001b[0m\u001b[0m\n\u001b[0m\u001b[1;32m      9\u001b[0m     \u001b[0mloss_dict\u001b[0m \u001b[0;34m=\u001b[0m \u001b[0mcriterion\u001b[0m\u001b[0;34m(\u001b[0m\u001b[0moutput\u001b[0m\u001b[0;34m,\u001b[0m \u001b[0mtargets\u001b[0m\u001b[0;34m)\u001b[0m\u001b[0;34m\u001b[0m\u001b[0;34m\u001b[0m\u001b[0m\n",
      "\u001b[0;32m~/anaconda3/envs/torch_retina/lib/python3.7/site-packages/torch/nn/modules/module.py\u001b[0m in \u001b[0;36m_call_impl\u001b[0;34m(self, *input, **kwargs)\u001b[0m\n\u001b[1;32m    887\u001b[0m             \u001b[0mresult\u001b[0m \u001b[0;34m=\u001b[0m \u001b[0mself\u001b[0m\u001b[0;34m.\u001b[0m\u001b[0m_slow_forward\u001b[0m\u001b[0;34m(\u001b[0m\u001b[0;34m*\u001b[0m\u001b[0minput\u001b[0m\u001b[0;34m,\u001b[0m \u001b[0;34m**\u001b[0m\u001b[0mkwargs\u001b[0m\u001b[0;34m)\u001b[0m\u001b[0;34m\u001b[0m\u001b[0;34m\u001b[0m\u001b[0m\n\u001b[1;32m    888\u001b[0m         \u001b[0;32melse\u001b[0m\u001b[0;34m:\u001b[0m\u001b[0;34m\u001b[0m\u001b[0;34m\u001b[0m\u001b[0m\n\u001b[0;32m--> 889\u001b[0;31m             \u001b[0mresult\u001b[0m \u001b[0;34m=\u001b[0m \u001b[0mself\u001b[0m\u001b[0;34m.\u001b[0m\u001b[0mforward\u001b[0m\u001b[0;34m(\u001b[0m\u001b[0;34m*\u001b[0m\u001b[0minput\u001b[0m\u001b[0;34m,\u001b[0m \u001b[0;34m**\u001b[0m\u001b[0mkwargs\u001b[0m\u001b[0;34m)\u001b[0m\u001b[0;34m\u001b[0m\u001b[0;34m\u001b[0m\u001b[0m\n\u001b[0m\u001b[1;32m    890\u001b[0m         for hook in itertools.chain(\n\u001b[1;32m    891\u001b[0m                 \u001b[0m_global_forward_hooks\u001b[0m\u001b[0;34m.\u001b[0m\u001b[0mvalues\u001b[0m\u001b[0;34m(\u001b[0m\u001b[0;34m)\u001b[0m\u001b[0;34m,\u001b[0m\u001b[0;34m\u001b[0m\u001b[0;34m\u001b[0m\u001b[0m\n",
      "\u001b[0;32m~/anaconda3/envs/torch_retina/lib/python3.7/site-packages/torch/nn/parallel/data_parallel.py\u001b[0m in \u001b[0;36mforward\u001b[0;34m(self, *inputs, **kwargs)\u001b[0m\n\u001b[1;32m    155\u001b[0m                                    \"them on device: {}\".format(self.src_device_obj, t.device))\n\u001b[1;32m    156\u001b[0m \u001b[0;34m\u001b[0m\u001b[0m\n\u001b[0;32m--> 157\u001b[0;31m         \u001b[0minputs\u001b[0m\u001b[0;34m,\u001b[0m \u001b[0mkwargs\u001b[0m \u001b[0;34m=\u001b[0m \u001b[0mself\u001b[0m\u001b[0;34m.\u001b[0m\u001b[0mscatter\u001b[0m\u001b[0;34m(\u001b[0m\u001b[0minputs\u001b[0m\u001b[0;34m,\u001b[0m \u001b[0mkwargs\u001b[0m\u001b[0;34m,\u001b[0m \u001b[0mself\u001b[0m\u001b[0;34m.\u001b[0m\u001b[0mdevice_ids\u001b[0m\u001b[0;34m)\u001b[0m\u001b[0;34m\u001b[0m\u001b[0;34m\u001b[0m\u001b[0m\n\u001b[0m\u001b[1;32m    158\u001b[0m         \u001b[0;31m# for forward function without any inputs, empty list and dict will be created\u001b[0m\u001b[0;34m\u001b[0m\u001b[0;34m\u001b[0m\u001b[0;34m\u001b[0m\u001b[0m\n\u001b[1;32m    159\u001b[0m         \u001b[0;31m# so the module can be executed on one device which is the first one in device_ids\u001b[0m\u001b[0;34m\u001b[0m\u001b[0;34m\u001b[0m\u001b[0;34m\u001b[0m\u001b[0m\n",
      "\u001b[0;32m~/anaconda3/envs/torch_retina/lib/python3.7/site-packages/torch/nn/parallel/data_parallel.py\u001b[0m in \u001b[0;36mscatter\u001b[0;34m(self, inputs, kwargs, device_ids)\u001b[0m\n\u001b[1;32m    172\u001b[0m \u001b[0;34m\u001b[0m\u001b[0m\n\u001b[1;32m    173\u001b[0m     \u001b[0;32mdef\u001b[0m \u001b[0mscatter\u001b[0m\u001b[0;34m(\u001b[0m\u001b[0mself\u001b[0m\u001b[0;34m,\u001b[0m \u001b[0minputs\u001b[0m\u001b[0;34m,\u001b[0m \u001b[0mkwargs\u001b[0m\u001b[0;34m,\u001b[0m \u001b[0mdevice_ids\u001b[0m\u001b[0;34m)\u001b[0m\u001b[0;34m:\u001b[0m\u001b[0;34m\u001b[0m\u001b[0;34m\u001b[0m\u001b[0m\n\u001b[0;32m--> 174\u001b[0;31m         \u001b[0;32mreturn\u001b[0m \u001b[0mscatter_kwargs\u001b[0m\u001b[0;34m(\u001b[0m\u001b[0minputs\u001b[0m\u001b[0;34m,\u001b[0m \u001b[0mkwargs\u001b[0m\u001b[0;34m,\u001b[0m \u001b[0mdevice_ids\u001b[0m\u001b[0;34m,\u001b[0m \u001b[0mdim\u001b[0m\u001b[0;34m=\u001b[0m\u001b[0mself\u001b[0m\u001b[0;34m.\u001b[0m\u001b[0mdim\u001b[0m\u001b[0;34m)\u001b[0m\u001b[0;34m\u001b[0m\u001b[0;34m\u001b[0m\u001b[0m\n\u001b[0m\u001b[1;32m    175\u001b[0m \u001b[0;34m\u001b[0m\u001b[0m\n\u001b[1;32m    176\u001b[0m     \u001b[0;32mdef\u001b[0m \u001b[0mparallel_apply\u001b[0m\u001b[0;34m(\u001b[0m\u001b[0mself\u001b[0m\u001b[0;34m,\u001b[0m \u001b[0mreplicas\u001b[0m\u001b[0;34m,\u001b[0m \u001b[0minputs\u001b[0m\u001b[0;34m,\u001b[0m \u001b[0mkwargs\u001b[0m\u001b[0;34m)\u001b[0m\u001b[0;34m:\u001b[0m\u001b[0;34m\u001b[0m\u001b[0;34m\u001b[0m\u001b[0m\n",
      "\u001b[0;32m~/anaconda3/envs/torch_retina/lib/python3.7/site-packages/torch/nn/parallel/scatter_gather.py\u001b[0m in \u001b[0;36mscatter_kwargs\u001b[0;34m(inputs, kwargs, target_gpus, dim)\u001b[0m\n\u001b[1;32m     42\u001b[0m \u001b[0;32mdef\u001b[0m \u001b[0mscatter_kwargs\u001b[0m\u001b[0;34m(\u001b[0m\u001b[0minputs\u001b[0m\u001b[0;34m,\u001b[0m \u001b[0mkwargs\u001b[0m\u001b[0;34m,\u001b[0m \u001b[0mtarget_gpus\u001b[0m\u001b[0;34m,\u001b[0m \u001b[0mdim\u001b[0m\u001b[0;34m=\u001b[0m\u001b[0;36m0\u001b[0m\u001b[0;34m)\u001b[0m\u001b[0;34m:\u001b[0m\u001b[0;34m\u001b[0m\u001b[0;34m\u001b[0m\u001b[0m\n\u001b[1;32m     43\u001b[0m     \u001b[0;34mr\"\"\"Scatter with support for kwargs dictionary\"\"\"\u001b[0m\u001b[0;34m\u001b[0m\u001b[0;34m\u001b[0m\u001b[0m\n\u001b[0;32m---> 44\u001b[0;31m     \u001b[0minputs\u001b[0m \u001b[0;34m=\u001b[0m \u001b[0mscatter\u001b[0m\u001b[0;34m(\u001b[0m\u001b[0minputs\u001b[0m\u001b[0;34m,\u001b[0m \u001b[0mtarget_gpus\u001b[0m\u001b[0;34m,\u001b[0m \u001b[0mdim\u001b[0m\u001b[0;34m)\u001b[0m \u001b[0;32mif\u001b[0m \u001b[0minputs\u001b[0m \u001b[0;32melse\u001b[0m \u001b[0;34m[\u001b[0m\u001b[0;34m]\u001b[0m\u001b[0;34m\u001b[0m\u001b[0;34m\u001b[0m\u001b[0m\n\u001b[0m\u001b[1;32m     45\u001b[0m     \u001b[0mkwargs\u001b[0m \u001b[0;34m=\u001b[0m \u001b[0mscatter\u001b[0m\u001b[0;34m(\u001b[0m\u001b[0mkwargs\u001b[0m\u001b[0;34m,\u001b[0m \u001b[0mtarget_gpus\u001b[0m\u001b[0;34m,\u001b[0m \u001b[0mdim\u001b[0m\u001b[0;34m)\u001b[0m \u001b[0;32mif\u001b[0m \u001b[0mkwargs\u001b[0m \u001b[0;32melse\u001b[0m \u001b[0;34m[\u001b[0m\u001b[0;34m]\u001b[0m\u001b[0;34m\u001b[0m\u001b[0;34m\u001b[0m\u001b[0m\n\u001b[1;32m     46\u001b[0m     \u001b[0;32mif\u001b[0m \u001b[0mlen\u001b[0m\u001b[0;34m(\u001b[0m\u001b[0minputs\u001b[0m\u001b[0;34m)\u001b[0m \u001b[0;34m<\u001b[0m \u001b[0mlen\u001b[0m\u001b[0;34m(\u001b[0m\u001b[0mkwargs\u001b[0m\u001b[0;34m)\u001b[0m\u001b[0;34m:\u001b[0m\u001b[0;34m\u001b[0m\u001b[0;34m\u001b[0m\u001b[0m\n",
      "\u001b[0;32m~/anaconda3/envs/torch_retina/lib/python3.7/site-packages/torch/nn/parallel/scatter_gather.py\u001b[0m in \u001b[0;36mscatter\u001b[0;34m(inputs, target_gpus, dim)\u001b[0m\n\u001b[1;32m     34\u001b[0m     \u001b[0;31m# None, clearing the cell\u001b[0m\u001b[0;34m\u001b[0m\u001b[0;34m\u001b[0m\u001b[0;34m\u001b[0m\u001b[0m\n\u001b[1;32m     35\u001b[0m     \u001b[0;32mtry\u001b[0m\u001b[0;34m:\u001b[0m\u001b[0;34m\u001b[0m\u001b[0;34m\u001b[0m\u001b[0m\n\u001b[0;32m---> 36\u001b[0;31m         \u001b[0mres\u001b[0m \u001b[0;34m=\u001b[0m \u001b[0mscatter_map\u001b[0m\u001b[0;34m(\u001b[0m\u001b[0minputs\u001b[0m\u001b[0;34m)\u001b[0m\u001b[0;34m\u001b[0m\u001b[0;34m\u001b[0m\u001b[0m\n\u001b[0m\u001b[1;32m     37\u001b[0m     \u001b[0;32mfinally\u001b[0m\u001b[0;34m:\u001b[0m\u001b[0;34m\u001b[0m\u001b[0;34m\u001b[0m\u001b[0m\n\u001b[1;32m     38\u001b[0m         \u001b[0mscatter_map\u001b[0m \u001b[0;34m=\u001b[0m \u001b[0;32mNone\u001b[0m\u001b[0;34m\u001b[0m\u001b[0;34m\u001b[0m\u001b[0m\n",
      "\u001b[0;32m~/anaconda3/envs/torch_retina/lib/python3.7/site-packages/torch/nn/parallel/scatter_gather.py\u001b[0m in \u001b[0;36mscatter_map\u001b[0;34m(obj)\u001b[0m\n\u001b[1;32m     21\u001b[0m             \u001b[0;32mreturn\u001b[0m \u001b[0;34m[\u001b[0m\u001b[0mtype\u001b[0m\u001b[0;34m(\u001b[0m\u001b[0mobj\u001b[0m\u001b[0;34m)\u001b[0m\u001b[0;34m(\u001b[0m\u001b[0;34m*\u001b[0m\u001b[0margs\u001b[0m\u001b[0;34m)\u001b[0m \u001b[0;32mfor\u001b[0m \u001b[0margs\u001b[0m \u001b[0;32min\u001b[0m \u001b[0mzip\u001b[0m\u001b[0;34m(\u001b[0m\u001b[0;34m*\u001b[0m\u001b[0mmap\u001b[0m\u001b[0;34m(\u001b[0m\u001b[0mscatter_map\u001b[0m\u001b[0;34m,\u001b[0m \u001b[0mobj\u001b[0m\u001b[0;34m)\u001b[0m\u001b[0;34m)\u001b[0m\u001b[0;34m]\u001b[0m\u001b[0;34m\u001b[0m\u001b[0;34m\u001b[0m\u001b[0m\n\u001b[1;32m     22\u001b[0m         \u001b[0;32mif\u001b[0m \u001b[0misinstance\u001b[0m\u001b[0;34m(\u001b[0m\u001b[0mobj\u001b[0m\u001b[0;34m,\u001b[0m \u001b[0mtuple\u001b[0m\u001b[0;34m)\u001b[0m \u001b[0;32mand\u001b[0m \u001b[0mlen\u001b[0m\u001b[0;34m(\u001b[0m\u001b[0mobj\u001b[0m\u001b[0;34m)\u001b[0m \u001b[0;34m>\u001b[0m \u001b[0;36m0\u001b[0m\u001b[0;34m:\u001b[0m\u001b[0;34m\u001b[0m\u001b[0;34m\u001b[0m\u001b[0m\n\u001b[0;32m---> 23\u001b[0;31m             \u001b[0;32mreturn\u001b[0m \u001b[0mlist\u001b[0m\u001b[0;34m(\u001b[0m\u001b[0mzip\u001b[0m\u001b[0;34m(\u001b[0m\u001b[0;34m*\u001b[0m\u001b[0mmap\u001b[0m\u001b[0;34m(\u001b[0m\u001b[0mscatter_map\u001b[0m\u001b[0;34m,\u001b[0m \u001b[0mobj\u001b[0m\u001b[0;34m)\u001b[0m\u001b[0;34m)\u001b[0m\u001b[0;34m)\u001b[0m\u001b[0;34m\u001b[0m\u001b[0;34m\u001b[0m\u001b[0m\n\u001b[0m\u001b[1;32m     24\u001b[0m         \u001b[0;32mif\u001b[0m \u001b[0misinstance\u001b[0m\u001b[0;34m(\u001b[0m\u001b[0mobj\u001b[0m\u001b[0;34m,\u001b[0m \u001b[0mlist\u001b[0m\u001b[0;34m)\u001b[0m \u001b[0;32mand\u001b[0m \u001b[0mlen\u001b[0m\u001b[0;34m(\u001b[0m\u001b[0mobj\u001b[0m\u001b[0;34m)\u001b[0m \u001b[0;34m>\u001b[0m \u001b[0;36m0\u001b[0m\u001b[0;34m:\u001b[0m\u001b[0;34m\u001b[0m\u001b[0;34m\u001b[0m\u001b[0m\n\u001b[1;32m     25\u001b[0m             \u001b[0;32mreturn\u001b[0m \u001b[0;34m[\u001b[0m\u001b[0mlist\u001b[0m\u001b[0;34m(\u001b[0m\u001b[0mi\u001b[0m\u001b[0;34m)\u001b[0m \u001b[0;32mfor\u001b[0m \u001b[0mi\u001b[0m \u001b[0;32min\u001b[0m \u001b[0mzip\u001b[0m\u001b[0;34m(\u001b[0m\u001b[0;34m*\u001b[0m\u001b[0mmap\u001b[0m\u001b[0;34m(\u001b[0m\u001b[0mscatter_map\u001b[0m\u001b[0;34m,\u001b[0m \u001b[0mobj\u001b[0m\u001b[0;34m)\u001b[0m\u001b[0;34m)\u001b[0m\u001b[0;34m]\u001b[0m\u001b[0;34m\u001b[0m\u001b[0;34m\u001b[0m\u001b[0m\n",
      "\u001b[0;32m~/anaconda3/envs/torch_retina/lib/python3.7/site-packages/torch/nn/parallel/scatter_gather.py\u001b[0m in \u001b[0;36mscatter_map\u001b[0;34m(obj)\u001b[0m\n\u001b[1;32m     23\u001b[0m             \u001b[0;32mreturn\u001b[0m \u001b[0mlist\u001b[0m\u001b[0;34m(\u001b[0m\u001b[0mzip\u001b[0m\u001b[0;34m(\u001b[0m\u001b[0;34m*\u001b[0m\u001b[0mmap\u001b[0m\u001b[0;34m(\u001b[0m\u001b[0mscatter_map\u001b[0m\u001b[0;34m,\u001b[0m \u001b[0mobj\u001b[0m\u001b[0;34m)\u001b[0m\u001b[0;34m)\u001b[0m\u001b[0;34m)\u001b[0m\u001b[0;34m\u001b[0m\u001b[0;34m\u001b[0m\u001b[0m\n\u001b[1;32m     24\u001b[0m         \u001b[0;32mif\u001b[0m \u001b[0misinstance\u001b[0m\u001b[0;34m(\u001b[0m\u001b[0mobj\u001b[0m\u001b[0;34m,\u001b[0m \u001b[0mlist\u001b[0m\u001b[0;34m)\u001b[0m \u001b[0;32mand\u001b[0m \u001b[0mlen\u001b[0m\u001b[0;34m(\u001b[0m\u001b[0mobj\u001b[0m\u001b[0;34m)\u001b[0m \u001b[0;34m>\u001b[0m \u001b[0;36m0\u001b[0m\u001b[0;34m:\u001b[0m\u001b[0;34m\u001b[0m\u001b[0;34m\u001b[0m\u001b[0m\n\u001b[0;32m---> 25\u001b[0;31m             \u001b[0;32mreturn\u001b[0m \u001b[0;34m[\u001b[0m\u001b[0mlist\u001b[0m\u001b[0;34m(\u001b[0m\u001b[0mi\u001b[0m\u001b[0;34m)\u001b[0m \u001b[0;32mfor\u001b[0m \u001b[0mi\u001b[0m \u001b[0;32min\u001b[0m \u001b[0mzip\u001b[0m\u001b[0;34m(\u001b[0m\u001b[0;34m*\u001b[0m\u001b[0mmap\u001b[0m\u001b[0;34m(\u001b[0m\u001b[0mscatter_map\u001b[0m\u001b[0;34m,\u001b[0m \u001b[0mobj\u001b[0m\u001b[0;34m)\u001b[0m\u001b[0;34m)\u001b[0m\u001b[0;34m]\u001b[0m\u001b[0;34m\u001b[0m\u001b[0;34m\u001b[0m\u001b[0m\n\u001b[0m\u001b[1;32m     26\u001b[0m         \u001b[0;32mif\u001b[0m \u001b[0misinstance\u001b[0m\u001b[0;34m(\u001b[0m\u001b[0mobj\u001b[0m\u001b[0;34m,\u001b[0m \u001b[0mdict\u001b[0m\u001b[0;34m)\u001b[0m \u001b[0;32mand\u001b[0m \u001b[0mlen\u001b[0m\u001b[0;34m(\u001b[0m\u001b[0mobj\u001b[0m\u001b[0;34m)\u001b[0m \u001b[0;34m>\u001b[0m \u001b[0;36m0\u001b[0m\u001b[0;34m:\u001b[0m\u001b[0;34m\u001b[0m\u001b[0;34m\u001b[0m\u001b[0m\n\u001b[1;32m     27\u001b[0m             \u001b[0;32mreturn\u001b[0m \u001b[0;34m[\u001b[0m\u001b[0mtype\u001b[0m\u001b[0;34m(\u001b[0m\u001b[0mobj\u001b[0m\u001b[0;34m)\u001b[0m\u001b[0;34m(\u001b[0m\u001b[0mi\u001b[0m\u001b[0;34m)\u001b[0m \u001b[0;32mfor\u001b[0m \u001b[0mi\u001b[0m \u001b[0;32min\u001b[0m \u001b[0mzip\u001b[0m\u001b[0;34m(\u001b[0m\u001b[0;34m*\u001b[0m\u001b[0mmap\u001b[0m\u001b[0;34m(\u001b[0m\u001b[0mscatter_map\u001b[0m\u001b[0;34m,\u001b[0m \u001b[0mobj\u001b[0m\u001b[0;34m.\u001b[0m\u001b[0mitems\u001b[0m\u001b[0;34m(\u001b[0m\u001b[0;34m)\u001b[0m\u001b[0;34m)\u001b[0m\u001b[0;34m)\u001b[0m\u001b[0;34m]\u001b[0m\u001b[0;34m\u001b[0m\u001b[0;34m\u001b[0m\u001b[0m\n",
      "\u001b[0;32m~/anaconda3/envs/torch_retina/lib/python3.7/site-packages/torch/nn/parallel/scatter_gather.py\u001b[0m in \u001b[0;36mscatter_map\u001b[0;34m(obj)\u001b[0m\n\u001b[1;32m     17\u001b[0m     \u001b[0;32mdef\u001b[0m \u001b[0mscatter_map\u001b[0m\u001b[0;34m(\u001b[0m\u001b[0mobj\u001b[0m\u001b[0;34m)\u001b[0m\u001b[0;34m:\u001b[0m\u001b[0;34m\u001b[0m\u001b[0;34m\u001b[0m\u001b[0m\n\u001b[1;32m     18\u001b[0m         \u001b[0;32mif\u001b[0m \u001b[0misinstance\u001b[0m\u001b[0;34m(\u001b[0m\u001b[0mobj\u001b[0m\u001b[0;34m,\u001b[0m \u001b[0mtorch\u001b[0m\u001b[0;34m.\u001b[0m\u001b[0mTensor\u001b[0m\u001b[0;34m)\u001b[0m\u001b[0;34m:\u001b[0m\u001b[0;34m\u001b[0m\u001b[0;34m\u001b[0m\u001b[0m\n\u001b[0;32m---> 19\u001b[0;31m             \u001b[0;32mreturn\u001b[0m \u001b[0mScatter\u001b[0m\u001b[0;34m.\u001b[0m\u001b[0mapply\u001b[0m\u001b[0;34m(\u001b[0m\u001b[0mtarget_gpus\u001b[0m\u001b[0;34m,\u001b[0m \u001b[0;32mNone\u001b[0m\u001b[0;34m,\u001b[0m \u001b[0mdim\u001b[0m\u001b[0;34m,\u001b[0m \u001b[0mobj\u001b[0m\u001b[0;34m)\u001b[0m\u001b[0;34m\u001b[0m\u001b[0;34m\u001b[0m\u001b[0m\n\u001b[0m\u001b[1;32m     20\u001b[0m         \u001b[0;32mif\u001b[0m \u001b[0mis_namedtuple\u001b[0m\u001b[0;34m(\u001b[0m\u001b[0mobj\u001b[0m\u001b[0;34m)\u001b[0m\u001b[0;34m:\u001b[0m\u001b[0;34m\u001b[0m\u001b[0;34m\u001b[0m\u001b[0m\n\u001b[1;32m     21\u001b[0m             \u001b[0;32mreturn\u001b[0m \u001b[0;34m[\u001b[0m\u001b[0mtype\u001b[0m\u001b[0;34m(\u001b[0m\u001b[0mobj\u001b[0m\u001b[0;34m)\u001b[0m\u001b[0;34m(\u001b[0m\u001b[0;34m*\u001b[0m\u001b[0margs\u001b[0m\u001b[0;34m)\u001b[0m \u001b[0;32mfor\u001b[0m \u001b[0margs\u001b[0m \u001b[0;32min\u001b[0m \u001b[0mzip\u001b[0m\u001b[0;34m(\u001b[0m\u001b[0;34m*\u001b[0m\u001b[0mmap\u001b[0m\u001b[0;34m(\u001b[0m\u001b[0mscatter_map\u001b[0m\u001b[0;34m,\u001b[0m \u001b[0mobj\u001b[0m\u001b[0;34m)\u001b[0m\u001b[0;34m)\u001b[0m\u001b[0;34m]\u001b[0m\u001b[0;34m\u001b[0m\u001b[0;34m\u001b[0m\u001b[0m\n",
      "\u001b[0;32m~/anaconda3/envs/torch_retina/lib/python3.7/site-packages/torch/nn/parallel/_functions.py\u001b[0m in \u001b[0;36mforward\u001b[0;34m(ctx, target_gpus, chunk_sizes, dim, input)\u001b[0m\n\u001b[1;32m     91\u001b[0m             \u001b[0;31m# Perform CPU to GPU copies in a background stream\u001b[0m\u001b[0;34m\u001b[0m\u001b[0;34m\u001b[0m\u001b[0;34m\u001b[0m\u001b[0m\n\u001b[1;32m     92\u001b[0m             \u001b[0mstreams\u001b[0m \u001b[0;34m=\u001b[0m \u001b[0;34m[\u001b[0m\u001b[0m_get_stream\u001b[0m\u001b[0;34m(\u001b[0m\u001b[0mdevice\u001b[0m\u001b[0;34m)\u001b[0m \u001b[0;32mfor\u001b[0m \u001b[0mdevice\u001b[0m \u001b[0;32min\u001b[0m \u001b[0mtarget_gpus\u001b[0m\u001b[0;34m]\u001b[0m\u001b[0;34m\u001b[0m\u001b[0;34m\u001b[0m\u001b[0m\n\u001b[0;32m---> 93\u001b[0;31m         \u001b[0moutputs\u001b[0m \u001b[0;34m=\u001b[0m \u001b[0mcomm\u001b[0m\u001b[0;34m.\u001b[0m\u001b[0mscatter\u001b[0m\u001b[0;34m(\u001b[0m\u001b[0minput\u001b[0m\u001b[0;34m,\u001b[0m \u001b[0mtarget_gpus\u001b[0m\u001b[0;34m,\u001b[0m \u001b[0mchunk_sizes\u001b[0m\u001b[0;34m,\u001b[0m \u001b[0mctx\u001b[0m\u001b[0;34m.\u001b[0m\u001b[0mdim\u001b[0m\u001b[0;34m,\u001b[0m \u001b[0mstreams\u001b[0m\u001b[0;34m)\u001b[0m\u001b[0;34m\u001b[0m\u001b[0;34m\u001b[0m\u001b[0m\n\u001b[0m\u001b[1;32m     94\u001b[0m         \u001b[0;31m# Synchronize with the copy stream\u001b[0m\u001b[0;34m\u001b[0m\u001b[0;34m\u001b[0m\u001b[0;34m\u001b[0m\u001b[0m\n\u001b[1;32m     95\u001b[0m         \u001b[0;32mif\u001b[0m \u001b[0mstreams\u001b[0m \u001b[0;32mis\u001b[0m \u001b[0;32mnot\u001b[0m \u001b[0;32mNone\u001b[0m\u001b[0;34m:\u001b[0m\u001b[0;34m\u001b[0m\u001b[0;34m\u001b[0m\u001b[0m\n",
      "\u001b[0;32m~/anaconda3/envs/torch_retina/lib/python3.7/site-packages/torch/nn/parallel/comm.py\u001b[0m in \u001b[0;36mscatter\u001b[0;34m(tensor, devices, chunk_sizes, dim, streams, out)\u001b[0m\n\u001b[1;32m    187\u001b[0m     \u001b[0;32mif\u001b[0m \u001b[0mout\u001b[0m \u001b[0;32mis\u001b[0m \u001b[0;32mNone\u001b[0m\u001b[0;34m:\u001b[0m\u001b[0;34m\u001b[0m\u001b[0;34m\u001b[0m\u001b[0m\n\u001b[1;32m    188\u001b[0m         \u001b[0mdevices\u001b[0m \u001b[0;34m=\u001b[0m \u001b[0;34m[\u001b[0m\u001b[0m_get_device_index\u001b[0m\u001b[0;34m(\u001b[0m\u001b[0md\u001b[0m\u001b[0;34m)\u001b[0m \u001b[0;32mfor\u001b[0m \u001b[0md\u001b[0m \u001b[0;32min\u001b[0m \u001b[0mdevices\u001b[0m\u001b[0;34m]\u001b[0m\u001b[0;34m\u001b[0m\u001b[0;34m\u001b[0m\u001b[0m\n\u001b[0;32m--> 189\u001b[0;31m         \u001b[0;32mreturn\u001b[0m \u001b[0mtuple\u001b[0m\u001b[0;34m(\u001b[0m\u001b[0mtorch\u001b[0m\u001b[0;34m.\u001b[0m\u001b[0m_C\u001b[0m\u001b[0;34m.\u001b[0m\u001b[0m_scatter\u001b[0m\u001b[0;34m(\u001b[0m\u001b[0mtensor\u001b[0m\u001b[0;34m,\u001b[0m \u001b[0mdevices\u001b[0m\u001b[0;34m,\u001b[0m \u001b[0mchunk_sizes\u001b[0m\u001b[0;34m,\u001b[0m \u001b[0mdim\u001b[0m\u001b[0;34m,\u001b[0m \u001b[0mstreams\u001b[0m\u001b[0;34m)\u001b[0m\u001b[0;34m)\u001b[0m\u001b[0;34m\u001b[0m\u001b[0;34m\u001b[0m\u001b[0m\n\u001b[0m\u001b[1;32m    190\u001b[0m     \u001b[0;32melse\u001b[0m\u001b[0;34m:\u001b[0m\u001b[0;34m\u001b[0m\u001b[0;34m\u001b[0m\u001b[0m\n\u001b[1;32m    191\u001b[0m         \u001b[0;32mif\u001b[0m \u001b[0mdevices\u001b[0m \u001b[0;32mis\u001b[0m \u001b[0;32mnot\u001b[0m \u001b[0;32mNone\u001b[0m\u001b[0;34m:\u001b[0m\u001b[0;34m\u001b[0m\u001b[0;34m\u001b[0m\u001b[0m\n",
      "\u001b[0;31mRuntimeError\u001b[0m: CUDA error: out of memory"
     ]
    }
   ],
   "source": [
    "#for i, data in enumerate(tqdm(train_data_loader)) :\n",
    "for step, data in enumerate(tqdm(train_data_loader, total=len(train_data_loader),leave=False)) :\n",
    "    images, targets, paths = data\n",
    "    batch_size = len(images)\n",
    "    images = list(image.to(device) for image in images)\n",
    "    targets = [{k: v.to(device) for k, v in t.items()} for t in targets]\n",
    "    \n",
    "    output = retinanet(images)\n",
    "    loss_dict = criterion(output, targets)    \n"
   ]
  },
  {
   "cell_type": "code",
   "execution_count": null,
   "id": "b28cb883-0778-4777-9071-200ecd762bb4",
   "metadata": {},
   "outputs": [],
   "source": []
  },
  {
   "cell_type": "code",
   "execution_count": null,
   "id": "f64ce090-070b-443c-b4d4-c7fe697b8cd1",
   "metadata": {},
   "outputs": [],
   "source": []
  }
 ],
 "metadata": {
  "kernelspec": {
   "display_name": "torch_retina",
   "language": "python",
   "name": "torch_retina"
  },
  "language_info": {
   "codemirror_mode": {
    "name": "ipython",
    "version": 3
   },
   "file_extension": ".py",
   "mimetype": "text/x-python",
   "name": "python",
   "nbconvert_exporter": "python",
   "pygments_lexer": "ipython3",
   "version": "3.7.10"
  }
 },
 "nbformat": 4,
 "nbformat_minor": 5
}
