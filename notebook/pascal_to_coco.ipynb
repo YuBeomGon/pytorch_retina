{
 "cells": [
  {
   "cell_type": "code",
   "execution_count": 1,
   "id": "6859b0ff-839c-4f94-9689-4131bb19993a",
   "metadata": {},
   "outputs": [],
   "source": [
    "# Import what we need in this project\n",
    "import argparse\n",
    "import os\n",
    "import numpy as np\n",
    "import pandas as pd\n",
    "import sys\n",
    "\n",
    "sys.path.append('../')\n",
    "from retinanet.voc2coco import *\n"
   ]
  },
  {
   "cell_type": "code",
   "execution_count": 2,
   "id": "4d17ad35-3490-4e6b-80e6-e8da3a808b03",
   "metadata": {},
   "outputs": [
    {
     "data": {
      "text/plain": [
       "{'ASCUS', 'Carcinoma', 'HSIL', 'LSIL', 'Normal'}"
      ]
     },
     "execution_count": 2,
     "metadata": {},
     "output_type": "execute_result"
    }
   ],
   "source": [
    "# df = pd.read_csv('df.csv')\n",
    "# set(df.label)\n",
    "# # papsmear data customizing is done\n",
    "\n"
   ]
  },
  {
   "cell_type": "code",
   "execution_count": 3,
   "id": "67633107-674f-4306-8f7a-0e1d24135e7d",
   "metadata": {},
   "outputs": [
    {
     "name": "stdout",
     "output_type": "stream",
     "text": [
      "{'ASCUS': 0, 'Carcinoma': 1, 'HSIL': 2, 'LSIL': 3, 'Normal': 4}\n"
     ]
    }
   ],
   "source": [
    "test_info = np.load('../data/test.npy', allow_pickle=True, encoding='latin1').item()\n",
    "\n",
    "xml_list = []\n",
    "img_list = []\n",
    "for i in test_info :\n",
    "    img_list.append(i)\n",
    "    i = i.split('.')[0] + '.xml'\n",
    "    xml_list.append(i)\n",
    "    \n",
    "convert(xml_list, img_list, '../data/annotations/instances_val.json')"
   ]
  },
  {
   "cell_type": "code",
   "execution_count": 4,
   "id": "8f7251c2-43fb-4d78-872d-bf367244a745",
   "metadata": {},
   "outputs": [
    {
     "name": "stdout",
     "output_type": "stream",
     "text": [
      "{'ASCUS': 0, 'Carcinoma': 1, 'HSIL': 2, 'LSIL': 3, 'Normal': 4}\n"
     ]
    }
   ],
   "source": [
    "train_info = np.load('../data/train.npy', allow_pickle=True, encoding='latin1').item()\n",
    "\n",
    "xml_list = []\n",
    "img_list = []\n",
    "for i in train_info :\n",
    "    img_list.append(i)\n",
    "    i = i.split('.')[0] + '.xml'\n",
    "    xml_list.append(i)\n",
    "    \n",
    "convert(xml_list, img_list, '../data/annotations/instances_train.json')"
   ]
  },
  {
   "cell_type": "code",
   "execution_count": 8,
   "id": "845aa662-e592-4662-a5fd-92baeb77d01b",
   "metadata": {},
   "outputs": [],
   "source": [
    "#!python ../retinanet/voc2coco.py xml_list ../data/coco/val.json"
   ]
  },
  {
   "cell_type": "code",
   "execution_count": 6,
   "id": "cb10c10b-375f-4272-b4cb-52fb0682bd98",
   "metadata": {},
   "outputs": [],
   "source": [
    "#xml_list"
   ]
  },
  {
   "cell_type": "code",
   "execution_count": 7,
   "id": "3dd65ec3-0ead-441b-b16d-0a4397c5a016",
   "metadata": {},
   "outputs": [
    {
     "data": {
      "text/plain": [
       "3744"
      ]
     },
     "execution_count": 7,
     "metadata": {},
     "output_type": "execute_result"
    }
   ],
   "source": [
    "len(xml_list)"
   ]
  },
  {
   "cell_type": "code",
   "execution_count": null,
   "id": "ba0ed372-3875-41e3-bc45-59a20a92dcea",
   "metadata": {},
   "outputs": [],
   "source": []
  }
 ],
 "metadata": {
  "kernelspec": {
   "display_name": "torch_retina",
   "language": "python",
   "name": "torch_retina"
  },
  "language_info": {
   "codemirror_mode": {
    "name": "ipython",
    "version": 3
   },
   "file_extension": ".py",
   "mimetype": "text/x-python",
   "name": "python",
   "nbconvert_exporter": "python",
   "pygments_lexer": "ipython3",
   "version": "3.7.10"
  }
 },
 "nbformat": 4,
 "nbformat_minor": 5
}
